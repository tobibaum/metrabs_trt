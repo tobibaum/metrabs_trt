{
 "cells": [
  {
   "cell_type": "code",
   "execution_count": 1,
   "id": "b8193429",
   "metadata": {},
   "outputs": [
    {
     "name": "stderr",
     "output_type": "stream",
     "text": [
      "2022-01-03 16:02:42.544929: I tensorflow/stream_executor/cuda/cuda_gpu_executor.cc:939] successful NUMA node read from SysFS had negative value (-1), but there must be at least one NUMA node, so returning NUMA node zero\n",
      "2022-01-03 16:02:42.550918: I tensorflow/stream_executor/cuda/cuda_gpu_executor.cc:939] successful NUMA node read from SysFS had negative value (-1), but there must be at least one NUMA node, so returning NUMA node zero\n",
      "2022-01-03 16:02:42.551368: I tensorflow/stream_executor/cuda/cuda_gpu_executor.cc:939] successful NUMA node read from SysFS had negative value (-1), but there must be at least one NUMA node, so returning NUMA node zero\n",
      "2022-01-03 16:02:42.552219: I tensorflow/core/platform/cpu_feature_guard.cc:151] This TensorFlow binary is optimized with oneAPI Deep Neural Network Library (oneDNN) to use the following CPU instructions in performance-critical operations:  AVX2 FMA\n",
      "To enable them in other operations, rebuild TensorFlow with the appropriate compiler flags.\n",
      "2022-01-03 16:02:42.552864: I tensorflow/stream_executor/cuda/cuda_gpu_executor.cc:939] successful NUMA node read from SysFS had negative value (-1), but there must be at least one NUMA node, so returning NUMA node zero\n",
      "2022-01-03 16:02:42.553418: I tensorflow/stream_executor/cuda/cuda_gpu_executor.cc:939] successful NUMA node read from SysFS had negative value (-1), but there must be at least one NUMA node, so returning NUMA node zero\n",
      "2022-01-03 16:02:42.553857: I tensorflow/stream_executor/cuda/cuda_gpu_executor.cc:939] successful NUMA node read from SysFS had negative value (-1), but there must be at least one NUMA node, so returning NUMA node zero\n",
      "2022-01-03 16:02:42.963941: I tensorflow/stream_executor/cuda/cuda_gpu_executor.cc:939] successful NUMA node read from SysFS had negative value (-1), but there must be at least one NUMA node, so returning NUMA node zero\n",
      "2022-01-03 16:02:42.964370: I tensorflow/stream_executor/cuda/cuda_gpu_executor.cc:939] successful NUMA node read from SysFS had negative value (-1), but there must be at least one NUMA node, so returning NUMA node zero\n",
      "2022-01-03 16:02:42.964752: I tensorflow/stream_executor/cuda/cuda_gpu_executor.cc:939] successful NUMA node read from SysFS had negative value (-1), but there must be at least one NUMA node, so returning NUMA node zero\n",
      "2022-01-03 16:02:42.965150: I tensorflow/core/common_runtime/gpu/gpu_device.cc:1525] Created device /job:localhost/replica:0/task:0/device:GPU:0 with 5444 MB memory:  -> device: 0, name: NVIDIA GeForce RTX 2070 SUPER, pci bus id: 0000:07:00.0, compute capability: 7.5\n"
     ]
    }
   ],
   "source": [
    "import os\n",
    "import tensorflow as tf\n",
    "\n",
    "# input names\n",
    "model_name = 'efficientnetv2-l'\n",
    "#model_name = 'resnet152'\n",
    "model_folder = '/disk/apps/metrabs/models/metrabs_eff2l_y4/'\n",
    "\n",
    "# output names\n",
    "base_fold = \"mods/effnet-l/\"\n",
    "\n",
    "bbone_name = os.path.join(base_fold, \"bbone\")\n",
    "head_name = os.path.join(base_fold, \"metrab_head\")\n",
    "onnx_name = os.path.join(base_fold, \"bbone.onnx\")\n",
    "\n",
    "model = tf.saved_model.load(model_folder)\n",
    "\n",
    "mod_vars = model.crop_model.variables\n",
    "name_shape = [['/'.join(v.name.split('/')[1:]), v.shape] for v in mod_vars if 'tpu' not in v.name]"
   ]
  },
  {
   "cell_type": "code",
   "execution_count": 4,
   "id": "e079828e",
   "metadata": {},
   "outputs": [],
   "source": [
    "import sys\n",
    "import keras\n",
    "sys.path.append('/home/tobi/apps/metrabs/metrabs/src')\n",
    "\n",
    "if model_name.startswith('efficient'):   \n",
    "    from backbones.efficientnet.effnetv2_model import *\n",
    "    import backbones.efficientnet.effnetv2_utils as effnet_util\n",
    "\n",
    "    import tfu\n",
    "    effnet_util.set_batchnorm(effnet_util.BatchNormalization)\n",
    "    tfu.set_data_format('NHWC')\n",
    "    tfu.set_dtype(tf.float32)\n",
    "\n",
    "    intermediate_shape = [1, 8, 8, 1280]\n",
    "    mod = get_model(model_name, include_top=False, pretrained=False, with_endpoints=False)\n",
    "    \n",
    "elif  model_name.startswith('resnet'):\n",
    "    from options import FLAGS\n",
    "    FLAGS.group_norm = False\n",
    "    FLAGS.stride_test = 32\n",
    "    FLAGS.stride_train = 32\n",
    "    FLAGS.centered_stride = True\n",
    "    bn = keras.layers.BatchNormalization\n",
    "    \n",
    "    import backbones.resnet\n",
    "    class MyLayers(keras.layers.VersionAwareLayers):\n",
    "        def __getattr__(self, name):\n",
    "            if name == 'BatchNormalization':\n",
    "                return bn\n",
    "            return super().__getattr__(name)\n",
    "\n",
    "    classname = f'ResNet{model_name[len(\"resnet\"):]}'.replace('-', '_')\n",
    "    mod = getattr(backbones.resnet, classname)(\n",
    "        include_top=False, weights=None,\n",
    "        input_shape=(None, None, 3), layers=MyLayers()) \n",
    "    intermediate_shape = [None, None, None, 2048]\n",
    "    \n",
    "mod.set_weights(mod_vars[:-4])"
   ]
  },
  {
   "cell_type": "code",
   "execution_count": 4,
   "id": "39e95075",
   "metadata": {},
   "outputs": [
    {
     "name": "stdout",
     "output_type": "stream",
     "text": [
      "WARNING:tensorflow:Skipping full serialization of Keras layer <keras.layers.convolutional.ZeroPadding2D object at 0x7f4ca6fcd760>, because it is not built.\n",
      "WARNING:tensorflow:Skipping full serialization of Keras layer <keras.layers.convolutional.ZeroPadding2D object at 0x7f4ca7033a90>, because it is not built.\n",
      "WARNING:tensorflow:Skipping full serialization of Keras layer <keras.layers.convolutional.ZeroPadding2D object at 0x7f4ca6d558b0>, because it is not built.\n",
      "WARNING:tensorflow:Skipping full serialization of Keras layer <keras.layers.convolutional.ZeroPadding2D object at 0x7f4ca6b3a190>, because it is not built.\n",
      "WARNING:tensorflow:Skipping full serialization of Keras layer <keras.layers.convolutional.ZeroPadding2D object at 0x7f4ca6c804f0>, because it is not built.\n",
      "WARNING:tensorflow:Skipping full serialization of Keras layer <keras.layers.convolutional.ZeroPadding2D object at 0x7f4ca6af5ac0>, because it is not built.\n",
      "WARNING:tensorflow:Skipping full serialization of Keras layer <keras.layers.convolutional.ZeroPadding2D object at 0x7f4ca69c5bb0>, because it is not built.\n",
      "WARNING:tensorflow:Skipping full serialization of Keras layer <keras.layers.convolutional.ZeroPadding2D object at 0x7f4ca69a9550>, because it is not built.\n",
      "WARNING:tensorflow:Skipping full serialization of Keras layer <keras.layers.convolutional.ZeroPadding2D object at 0x7f4ca6ab8610>, because it is not built.\n",
      "WARNING:tensorflow:Skipping full serialization of Keras layer <keras.layers.convolutional.ZeroPadding2D object at 0x7f4ca687bc40>, because it is not built.\n",
      "WARNING:tensorflow:Skipping full serialization of Keras layer <keras.layers.convolutional.ZeroPadding2D object at 0x7f4ca672e520>, because it is not built.\n",
      "WARNING:tensorflow:Skipping full serialization of Keras layer <keras.layers.convolutional.ZeroPadding2D object at 0x7f4ca6550e50>, because it is not built.\n",
      "WARNING:tensorflow:Skipping full serialization of Keras layer <keras.layers.convolutional.ZeroPadding2D object at 0x7f4ca64e1250>, because it is not built.\n",
      "WARNING:tensorflow:Skipping full serialization of Keras layer <keras.layers.convolutional.ZeroPadding2D object at 0x7f4ca63154c0>, because it is not built.\n",
      "WARNING:tensorflow:Skipping full serialization of Keras layer <keras.layers.convolutional.ZeroPadding2D object at 0x7f4ca62277c0>, because it is not built.\n",
      "WARNING:tensorflow:Skipping full serialization of Keras layer <keras.layers.convolutional.ZeroPadding2D object at 0x7f4de8b46040>, because it is not built.\n",
      "WARNING:tensorflow:Skipping full serialization of Keras layer <keras.layers.convolutional.ZeroPadding2D object at 0x7f4ca69eec70>, because it is not built.\n",
      "WARNING:tensorflow:Skipping full serialization of Keras layer <keras.layers.convolutional.ZeroPadding2D object at 0x7f4b7e801e20>, because it is not built.\n",
      "WARNING:tensorflow:Skipping full serialization of Keras layer <keras.layers.convolutional.ZeroPadding2D object at 0x7f4b7e98c070>, because it is not built.\n",
      "WARNING:tensorflow:Skipping full serialization of Keras layer <keras.layers.convolutional.ZeroPadding2D object at 0x7f4b7e94d970>, because it is not built.\n",
      "WARNING:tensorflow:Skipping full serialization of Keras layer <keras.layers.convolutional.ZeroPadding2D object at 0x7f4b7e622d00>, because it is not built.\n",
      "WARNING:tensorflow:Skipping full serialization of Keras layer <keras.layers.convolutional.ZeroPadding2D object at 0x7f4b7ea072e0>, because it is not built.\n",
      "WARNING:tensorflow:Skipping full serialization of Keras layer <keras.layers.convolutional.ZeroPadding2D object at 0x7f4b7e9f6c40>, because it is not built.\n",
      "WARNING:tensorflow:Skipping full serialization of Keras layer <keras.layers.convolutional.ZeroPadding2D object at 0x7f4b7ea21190>, because it is not built.\n",
      "WARNING:tensorflow:Skipping full serialization of Keras layer <keras.layers.convolutional.ZeroPadding2D object at 0x7f4b7ea377f0>, because it is not built.\n",
      "WARNING:tensorflow:Skipping full serialization of Keras layer <keras.layers.convolutional.ZeroPadding2D object at 0x7f4b7eb71fa0>, because it is not built.\n",
      "WARNING:tensorflow:Skipping full serialization of Keras layer <keras.layers.convolutional.ZeroPadding2D object at 0x7f4b7e7cf220>, because it is not built.\n",
      "WARNING:tensorflow:Skipping full serialization of Keras layer <keras.layers.convolutional.ZeroPadding2D object at 0x7f4b7eb227f0>, because it is not built.\n",
      "WARNING:tensorflow:Skipping full serialization of Keras layer <keras.layers.convolutional.ZeroPadding2D object at 0x7f4b7eb86d00>, because it is not built.\n",
      "WARNING:tensorflow:Skipping full serialization of Keras layer <keras.layers.convolutional.ZeroPadding2D object at 0x7f4b7ea30460>, because it is not built.\n",
      "WARNING:tensorflow:Skipping full serialization of Keras layer <keras.layers.convolutional.ZeroPadding2D object at 0x7f4b7eaad880>, because it is not built.\n",
      "WARNING:tensorflow:Skipping full serialization of Keras layer <keras.layers.convolutional.ZeroPadding2D object at 0x7f4b7eac9970>, because it is not built.\n",
      "WARNING:tensorflow:Skipping full serialization of Keras layer <keras.layers.convolutional.ZeroPadding2D object at 0x7f4b7eaf5ca0>, because it is not built.\n",
      "WARNING:tensorflow:Skipping full serialization of Keras layer <keras.layers.convolutional.ZeroPadding2D object at 0x7f4b7ea44100>, because it is not built.\n",
      "WARNING:tensorflow:Skipping full serialization of Keras layer <keras.layers.convolutional.ZeroPadding2D object at 0x7f4b7ea80d00>, because it is not built.\n",
      "WARNING:tensorflow:Skipping full serialization of Keras layer <keras.layers.convolutional.ZeroPadding2D object at 0x7f4b7ea4da30>, because it is not built.\n",
      "WARNING:tensorflow:Skipping full serialization of Keras layer <keras.layers.convolutional.ZeroPadding2D object at 0x7f4b7e6cca00>, because it is not built.\n",
      "WARNING:tensorflow:Skipping full serialization of Keras layer <keras.layers.convolutional.ZeroPadding2D object at 0x7f4b7e9c1310>, because it is not built.\n",
      "WARNING:tensorflow:Skipping full serialization of Keras layer <keras.layers.convolutional.ZeroPadding2D object at 0x7f4b7eb8dfd0>, because it is not built.\n",
      "WARNING:tensorflow:Skipping full serialization of Keras layer <keras.layers.convolutional.ZeroPadding2D object at 0x7f4b7e866040>, because it is not built.\n",
      "WARNING:tensorflow:Skipping full serialization of Keras layer <keras.layers.convolutional.ZeroPadding2D object at 0x7f4b7eab05b0>, because it is not built.\n",
      "WARNING:tensorflow:Skipping full serialization of Keras layer <keras.layers.convolutional.ZeroPadding2D object at 0x7f4b7e832d30>, because it is not built.\n",
      "WARNING:tensorflow:Skipping full serialization of Keras layer <keras.layers.convolutional.ZeroPadding2D object at 0x7f4b7ea34820>, because it is not built.\n",
      "WARNING:tensorflow:Skipping full serialization of Keras layer <keras.layers.convolutional.ZeroPadding2D object at 0x7f4b7e6772e0>, because it is not built.\n",
      "WARNING:tensorflow:Skipping full serialization of Keras layer <keras.layers.convolutional.ZeroPadding2D object at 0x7f4b7eb75d60>, because it is not built.\n",
      "WARNING:tensorflow:Skipping full serialization of Keras layer <keras.layers.convolutional.ZeroPadding2D object at 0x7f4b7e9aa8e0>, because it is not built.\n",
      "WARNING:tensorflow:Skipping full serialization of Keras layer <keras.layers.convolutional.ZeroPadding2D object at 0x7f4b7eab3c40>, because it is not built.\n",
      "WARNING:tensorflow:Skipping full serialization of Keras layer <keras.layers.convolutional.Cropping2D object at 0x7f4b7ea7a130>, because it is not built.\n",
      "WARNING:tensorflow:Skipping full serialization of Keras layer <keras.layers.convolutional.ZeroPadding2D object at 0x7f4b7eab3040>, because it is not built.\n",
      "WARNING:tensorflow:Skipping full serialization of Keras layer <keras.layers.convolutional.Cropping2D object at 0x7f4b7e856940>, because it is not built.\n",
      "WARNING:tensorflow:Skipping full serialization of Keras layer <keras.layers.convolutional.ZeroPadding2D object at 0x7f4b7ea74c10>, because it is not built.\n",
      "WARNING:tensorflow:Skipping full serialization of Keras layer <keras.layers.convolutional.ZeroPadding2D object at 0x7f4b7ea55460>, because it is not built.\n"
     ]
    },
    {
     "name": "stderr",
     "output_type": "stream",
     "text": [
      "2022-01-03 15:22:04.278456: W tensorflow/python/util/util.cc:368] Sets are not currently considered sequences, but this may change in the future, so consider avoiding using them.\n"
     ]
    },
    {
     "name": "stdout",
     "output_type": "stream",
     "text": [
      "INFO:tensorflow:Assets written to: mods/resnet152/bbone/assets\n"
     ]
    }
   ],
   "source": [
    "# save backbone model w/ full signature!\n",
    "\n",
    "@tf.function()\n",
    "def my_predict(my_prediction_inputs, **kwargs):\n",
    "    prediction = mod(tf.expand_dims(my_prediction_inputs, axis=0), training=False)\n",
    "    return {\"prediction\": prediction}\n",
    "\n",
    "my_signatures = my_predict.get_concrete_function(\n",
    "   my_prediction_inputs=tf.TensorSpec([256, 256, 3], dtype=tf.float32, name=\"image\")\n",
    ")\n",
    "\n",
    "tf.saved_model.save(mod, bbone_name, signatures=my_signatures)"
   ]
  },
  {
   "cell_type": "code",
   "execution_count": 5,
   "id": "502d2907-d269-4e23-b901-070f1f9e9bc6",
   "metadata": {},
   "outputs": [
    {
     "name": "stderr",
     "output_type": "stream",
     "text": [
      "WARNING:absl:Found untraced functions such as restored_function_body, restored_function_body, restored_function_body, restored_function_body, restored_function_body while saving (showing 5 of 5). These functions will not be directly callable after loading.\n"
     ]
    },
    {
     "name": "stdout",
     "output_type": "stream",
     "text": [
      "INFO:tensorflow:Assets written to: mods/resnet152/metrab_head/assets\n"
     ]
    },
    {
     "name": "stderr",
     "output_type": "stream",
     "text": [
      "INFO:tensorflow:Assets written to: mods/resnet152/metrab_head/assets\n"
     ]
    }
   ],
   "source": [
    "# save metrabs head only!\n",
    "\n",
    "@tf.function()\n",
    "def metr_head(my_prediction_inputs, **kwargs):\n",
    "    #prediction = mod(my_prediction_inputs, training=False)\n",
    "    pred2d, pred3d = model.crop_model.heatmap_heads(tf.cast(my_prediction_inputs, tf.float16), training=False)\n",
    "    return {\"prediction\": pred2d}\n",
    "\n",
    "metrab_sig = metr_head.get_concrete_function(\n",
    "   my_prediction_inputs=tf.TensorSpec(intermediate_shape, dtype=tf.dtypes.float32, name=\"feature\")\n",
    ")\n",
    "\n",
    "\n",
    "tf.saved_model.save(model.crop_model.heatmap_heads, head_name, signatures=metrab_sig)\n",
    "if False:\n",
    "    # confirm consistency briefly\n",
    "    metrab_mod = tf.saved_model.load(head_name)\n",
    "    pred2d_metrab, _ = metrab_mod(tf.cast(pred, tf.float16))\n",
    "    assert(np.all(pred2d_metrab == pred2d)), 'saved model yields diff result'"
   ]
  },
  {
   "cell_type": "code",
   "execution_count": 2,
   "id": "060a51c7-45e6-4ae7-b13e-8387d793426e",
   "metadata": {},
   "outputs": [
    {
     "name": "stdout",
     "output_type": "stream",
     "text": [
      "run in regular env:\n",
      "python -m tf2onnx.convert --saved-model mods/effnet-l/bbone --output mods/effnet-l/bbone.onnx\n"
     ]
    }
   ],
   "source": [
    "print(\"run in regular env:\")\n",
    "print(\"python -m tf2onnx.convert --saved-model %s --output %s\"%(bbone_name, onnx_name))"
   ]
  },
  {
   "cell_type": "code",
   "execution_count": null,
   "id": "64a75177-1426-4750-b666-97b22f55b055",
   "metadata": {},
   "outputs": [],
   "source": [
    "# test the full pipeline in its parts\n",
    "\n",
    "%matplotlib inline\n",
    "from matplotlib import pyplot as plt\n",
    "from PIL import Image\n",
    "import cv2\n",
    "import numpy as np\n",
    "\n",
    "import time\n",
    "import matplotlib.patches as patches\n",
    "from PIL import Image\n",
    "\n",
    "t3 = time.time()\n",
    "img = Image.open('cpp/image.png')\n",
    "\n",
    "t = time.time()\n",
    "bbox = model.detector.predict_single_image(img)\n",
    "t = time.time() - t\n",
    "\n",
    "x, y, wd, ht, conf = bbox[0]\n",
    "crop = np.array(img)[int(y):int(y+ht), int(x):int(x+wd)]\n",
    "res = cv2.resize(crop, dsize=(256, 256), interpolation=cv2.INTER_CUBIC)\n",
    "\n",
    "Image.fromarray(res).save('cpp/crop.png')\n",
    "\n",
    "inp = res.astype(np.float16)\n",
    "inp /= 256.\n",
    "\n",
    "t2 = time.time()\n",
    "pred = mod(inp[np.newaxis,...], False)\n",
    "t2 = time.time() - t2\n",
    "\n",
    "t4 = time.time()\n",
    "pred2d, pred3d = model.crop_model.heatmap_heads(tf.cast(pred, tf.float16), training=False)\n",
    "#coords3d_abs = tfu3d.reconstruct_absolute(coords2d, coords3d, intrinsics)\n",
    "t4 = time.time() - t4\n",
    "\n",
    "t3 = time.time() - t3\n",
    "\n",
    "rect = patches.Rectangle((x, y), wd, ht, linewidth=1, edgecolor='r', facecolor='none')\n",
    "fig, ax = plt.subplots()\n",
    "ax.imshow(img)\n",
    "ax.add_patch(rect)\n",
    "plt.show()\n",
    "\n",
    "plt.imshow(crop)\n",
    "plt.show()\n",
    "plt.imshow(res)\n",
    "\n",
    "xs = pred2d.numpy()[0, :, 0]\n",
    "ys = pred2d.numpy()[0, :, 1]\n",
    "plt.scatter(xs, ys)\n",
    "\n",
    "print('det took %.2fms'%(t*1000))\n",
    "print('pred took %.2fms'%(t2*1000))\n",
    "print('metrabs took %.2fms'%(t4*1000))\n",
    "print('total took %.2fms'%(t3*1000))\n",
    "#print(pred)"
   ]
  }
 ],
 "metadata": {
  "kernelspec": {
   "display_name": "env3.8",
   "language": "python",
   "name": "env3.8"
  },
  "language_info": {
   "codemirror_mode": {
    "name": "ipython",
    "version": 3
   },
   "file_extension": ".py",
   "mimetype": "text/x-python",
   "name": "python",
   "nbconvert_exporter": "python",
   "pygments_lexer": "ipython3",
   "version": "3.8.0"
  }
 },
 "nbformat": 4,
 "nbformat_minor": 5
}
