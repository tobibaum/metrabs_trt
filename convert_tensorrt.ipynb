{
 "cells": [
  {
   "cell_type": "code",
   "execution_count": 1,
   "id": "3c91d049",
   "metadata": {},
   "outputs": [
    {
     "name": "stderr",
     "output_type": "stream",
     "text": [
      "WARNING:absl:Found untraced functions such as restored_function_body, restored_function_body, restored_function_body, restored_function_body, restored_function_body while saving (showing 5 of 5). These functions will not be directly callable after loading.\n"
     ]
    },
    {
     "name": "stdout",
     "output_type": "stream",
     "text": [
      "INFO:tensorflow:Assets written to: rn18sig/assets\n"
     ]
    },
    {
     "name": "stderr",
     "output_type": "stream",
     "text": [
      "INFO:tensorflow:Assets written to: rn18sig/assets\n"
     ]
    }
   ],
   "source": [
    "import tensorflow as tf\n",
    "\n",
    "model_folder = 'models/metrabs_rn18_y4/'\n",
    "model = tf.saved_model.load(model_folder)\n",
    "\n",
    "@tf.function()\n",
    "def my_predict(my_prediction_inputs, **kwargs):\n",
    "    # input_signature=[                                                  \n",
    "    #     tf.TensorSpec(shape=(None, None, 3), dtype=tf.uint8),  # image\n",
    "    #     tf.TensorSpec(shape=(3, 3), dtype=tf.float32),  # intrinsic_matrix\n",
    "    #     tf.TensorSpec(shape=(5), dtype=tf.float32),  # distortion_coeffs\n",
    "    #     tf.TensorSpec(shape=(4, 4), dtype=tf.float32),  # extrinsic_matrix\n",
    "    #     tf.TensorSpec(shape=(3,), dtype=tf.float32),  # world_up_vector\n",
    "    #     tf.TensorSpec(shape=(), dtype=tf.float32),  # default_fov_degrees\n",
    "    #     tf.TensorSpec(shape=(), dtype=tf.int32),  # internal_batch_size        \n",
    "    #     tf.TensorSpec(shape=(), dtype=tf.int32),  # antialias_factor\n",
    "    #     tf.TensorSpec(shape=(), dtype=tf.int32),  # num_aug\n",
    "    #     tf.TensorSpec(shape=(), dtype=tf.bool),  # average_aug\n",
    "    #     tf.TensorSpec(shape=(), dtype=tf.string),  # skeleton\n",
    "    #     tf.TensorSpec(shape=(), dtype=tf.float32),  # detector_threshold\n",
    "    #     tf.TensorSpec(shape=(), dtype=tf.float32),  # detector_nms_iou_threshold\n",
    "    #     tf.TensorSpec(shape=(), dtype=tf.int32),  # max_detections\n",
    "    #     tf.TensorSpec(shape=(), dtype=tf.bool),  # detector_flip_aug\n",
    "    #     tf.TensorSpec(shape=(), dtype=tf.bool) # suppress_implausible_poses\n",
    "    #                ] \n",
    "\n",
    "    # inputs = {\n",
    "    #     'image': my_prediction_inputs,\n",
    "    #     'intrinsic_matrix': tf.constant(((-1, -1, -1), (-1, -1, -1), (-1, -1, -1)), dtype=tf.float32),\n",
    "    #     'distortion_coeffs': tf.constant((0, 0, 0, 0, 0), dtype=tf.float32),\n",
    "    #     'extrinsic_matrix': tf.constant(((1, 0, 0, 0), (0, 1, 0, 0), (0, 0, 1, 0), (0, 0, 0, 1)), dtype=tf.float32),\n",
    "    #     'world_up_vector': tf.constant((0, -1, 0), dtype=tf.float32),\n",
    "    #     'default_fov_degrees': tf.constant(55, dtype=tf.float32), \n",
    "    #     'internal_batch_size': tf.constant(64, dtype=tf.int32),\n",
    "    #     'antialias_factor': tf.constant(1, dtype=tf.int32),\n",
    "    #     'num_aug': tf.constant(5, dtype=tf.int32),\n",
    "    #     'average_aug': tf.constant(True, dtype=tf.bool),\n",
    "    #     'skeleton': tf.constant('', dtype=tf.string),\n",
    "    #     'detector_threshold': tf.constant(0.3, dtype=tf.float32),\n",
    "    #     'detector_nms_iou_threshold': tf.constant(0.7, dtype=tf.float32),\n",
    "    #     'max_detections': tf.constant(-1, dtype=tf.int32),\n",
    "    #     'detector_flip_aug': tf.constant(False, dtype=tf.bool),\n",
    "    #     'suppress_implausible_poses': tf.constant(True, dtype=tf.bool)\n",
    "    # }\n",
    "    \n",
    "    prediction = model.detect_poses(my_prediction_inputs)\n",
    "    return {\"prediction\": prediction['poses3d']}\n",
    "\n",
    "my_signatures = my_predict.get_concrete_function(\n",
    "   my_prediction_inputs=tf.TensorSpec([None,None, 3], dtype=tf.dtypes.uint8, name=\"image\")\n",
    ")\n",
    "\n",
    "#signatures = {tf.saved_model.DEFAULT_SERVING_SIGNATURE_DEF_KEY : \n",
    "#                my_signatures}\n",
    "\n",
    "tf.saved_model.save(model, 'rn18sig', signatures=my_signatures)"
   ]
  },
  {
   "cell_type": "code",
   "execution_count": 1,
   "id": "aaf24940",
   "metadata": {},
   "outputs": [
    {
     "name": "stdout",
     "output_type": "stream",
     "text": [
      "INFO:tensorflow:Linked TensorRT version: (7, 2, 2)\n",
      "INFO:tensorflow:Loaded TensorRT version: (7, 2, 1)\n",
      "ERROR:tensorflow:Loaded TensorRT 7.2.1 but linked TensorFlow against TensorRT 7.2.2. TensorRT does not support forward compatibility. It is also required to use the same major version of TensorRT during compilation and runtime.\n"
     ]
    },
    {
     "ename": "RuntimeError",
     "evalue": "Incompatible TensorRT versions",
     "output_type": "error",
     "traceback": [
      "\u001b[0;31m---------------------------------------------------------------------------\u001b[0m",
      "\u001b[0;31mRuntimeError\u001b[0m                              Traceback (most recent call last)",
      "\u001b[0;32m<ipython-input-1-1245484a0572>\u001b[0m in \u001b[0;36m<module>\u001b[0;34m\u001b[0m\n\u001b[1;32m     11\u001b[0m \u001b[0;34m\u001b[0m\u001b[0m\n\u001b[1;32m     12\u001b[0m converter = trt.TrtGraphConverterV2(\n\u001b[0;32m---> 13\u001b[0;31m     input_saved_model_dir='rn18sig')\n\u001b[0m\u001b[1;32m     14\u001b[0m     \u001b[0;31m#conversion_params=conversion_params)\u001b[0m\u001b[0;34m\u001b[0m\u001b[0;34m\u001b[0m\u001b[0;34m\u001b[0m\u001b[0m\n\u001b[1;32m     15\u001b[0m \u001b[0mconverter\u001b[0m\u001b[0;34m.\u001b[0m\u001b[0mconvert\u001b[0m\u001b[0;34m(\u001b[0m\u001b[0;34m)\u001b[0m\u001b[0;34m\u001b[0m\u001b[0;34m\u001b[0m\u001b[0m\n",
      "\u001b[0;32m~/env/lib/python3.6/site-packages/tensorflow/python/compiler/tensorrt/trt_convert.py\u001b[0m in \u001b[0;36m__init__\u001b[0;34m(self, input_saved_model_dir, input_saved_model_tags, input_saved_model_signature_key, use_dynamic_shape, dynamic_shape_profile_strategy, conversion_params)\u001b[0m\n\u001b[1;32m    985\u001b[0m       \u001b[0mconversion_params\u001b[0m \u001b[0;34m=\u001b[0m \u001b[0mTrtConversionParams\u001b[0m\u001b[0;34m(\u001b[0m\u001b[0;34m)\u001b[0m\u001b[0;34m\u001b[0m\u001b[0;34m\u001b[0m\u001b[0m\n\u001b[1;32m    986\u001b[0m \u001b[0;34m\u001b[0m\u001b[0m\n\u001b[0;32m--> 987\u001b[0;31m     \u001b[0m_check_trt_version_compatibility\u001b[0m\u001b[0;34m(\u001b[0m\u001b[0;34m)\u001b[0m\u001b[0;34m\u001b[0m\u001b[0;34m\u001b[0m\u001b[0m\n\u001b[0m\u001b[1;32m    988\u001b[0m     \u001b[0m_check_conversion_params\u001b[0m\u001b[0;34m(\u001b[0m\u001b[0mconversion_params\u001b[0m\u001b[0;34m,\u001b[0m \u001b[0mis_v2\u001b[0m\u001b[0;34m=\u001b[0m\u001b[0;32mTrue\u001b[0m\u001b[0;34m)\u001b[0m\u001b[0;34m\u001b[0m\u001b[0;34m\u001b[0m\u001b[0m\n\u001b[1;32m    989\u001b[0m \u001b[0;34m\u001b[0m\u001b[0m\n",
      "\u001b[0;32m~/env/lib/python3.6/site-packages/tensorflow/python/compiler/tensorrt/trt_convert.py\u001b[0m in \u001b[0;36m_check_trt_version_compatibility\u001b[0;34m()\u001b[0m\n\u001b[1;32m    225\u001b[0m         \u001b[0;34m\"It is also required to use the same major version of TensorRT \"\u001b[0m \u001b[0;34m+\u001b[0m\u001b[0;34m\u001b[0m\u001b[0;34m\u001b[0m\u001b[0m\n\u001b[1;32m    226\u001b[0m         \"during compilation and runtime.\")\n\u001b[0;32m--> 227\u001b[0;31m     \u001b[0;32mraise\u001b[0m \u001b[0mRuntimeError\u001b[0m\u001b[0;34m(\u001b[0m\u001b[0;34m\"Incompatible TensorRT versions\"\u001b[0m\u001b[0;34m)\u001b[0m\u001b[0;34m\u001b[0m\u001b[0;34m\u001b[0m\u001b[0m\n\u001b[0m\u001b[1;32m    228\u001b[0m   \u001b[0;32mif\u001b[0m \u001b[0mloaded_version\u001b[0m\u001b[0;34m[\u001b[0m\u001b[0;36m0\u001b[0m\u001b[0;34m]\u001b[0m \u001b[0;34m>\u001b[0m \u001b[0mlinked_version\u001b[0m\u001b[0;34m[\u001b[0m\u001b[0;36m0\u001b[0m\u001b[0;34m]\u001b[0m\u001b[0;34m:\u001b[0m\u001b[0;34m\u001b[0m\u001b[0;34m\u001b[0m\u001b[0m\n\u001b[1;32m    229\u001b[0m     tf_logging.error(\n",
      "\u001b[0;31mRuntimeError\u001b[0m: Incompatible TensorRT versions"
     ]
    }
   ],
   "source": [
    "import os\n",
    "import tensorflow as tf\n",
    "from tensorflow.python.compiler.tensorrt import trt_convert as trt\n",
    "\n",
    "conversion_params = trt.DEFAULT_TRT_CONVERSION_PARAMS\n",
    "conversion_params = conversion_params._replace(\n",
    "    max_workspace_size_bytes=(1<<32))\n",
    "conversion_params = conversion_params._replace(precision_mode=\"FP16\")\n",
    "conversion_params = conversion_params._replace(\n",
    "    maximum_cached_engines=100)\n",
    "\n",
    "converter = trt.TrtGraphConverterV2(\n",
    "    input_saved_model_dir='rn18sig')\n",
    "    #conversion_params=conversion_params)\n",
    "converter.convert()\n",
    "converter.save('tensorrt')"
   ]
  },
  {
   "cell_type": "code",
   "execution_count": null,
   "id": "547aa517",
   "metadata": {},
   "outputs": [],
   "source": []
  }
 ],
 "metadata": {
  "kernelspec": {
   "display_name": "Python 3",
   "language": "python",
   "name": "python3"
  },
  "language_info": {
   "codemirror_mode": {
    "name": "ipython",
    "version": 3
   },
   "file_extension": ".py",
   "mimetype": "text/x-python",
   "name": "python",
   "nbconvert_exporter": "python",
   "pygments_lexer": "ipython3",
   "version": "3.8.0"
  }
 },
 "nbformat": 4,
 "nbformat_minor": 5
}
