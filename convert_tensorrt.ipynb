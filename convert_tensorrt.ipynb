{
 "cells": [
  {
   "cell_type": "code",
   "execution_count": 1,
   "id": "166a7cf9",
   "metadata": {},
   "outputs": [
    {
     "name": "stderr",
     "output_type": "stream",
     "text": [
      "WARNING:absl:Found untraced functions such as restored_function_body, restored_function_body, restored_function_body, restored_function_body, restored_function_body while saving (showing 5 of 1405). These functions will not be directly callable after loading.\n"
     ]
    },
    {
     "name": "stdout",
     "output_type": "stream",
     "text": [
      "INFO:tensorflow:Assets written to: eff2s_y4/assets\n"
     ]
    },
    {
     "name": "stderr",
     "output_type": "stream",
     "text": [
      "INFO:tensorflow:Assets written to: eff2s_y4/assets\n"
     ]
    }
   ],
   "source": [
    "import tensorflow as tf\n",
    "\n",
    "#model_folder = 'models/metrabs_rn18_y4/'\n",
    "#out_fold='rn18sig'\n",
    "\n",
    "#model_folder = 'models/metrabs_mob3s_y4t/'\n",
    "#out_fold='mob3s_y4t'\n",
    "\n",
    "#model_folder = 'models/metrabs_eff2l_y4/'\n",
    "#out_fold='eff2l_y4'\n",
    "\n",
    "model_folder = 'models/metrabs_eff2s_y4/'\n",
    "out_fold='eff2s_y4'\n",
    "\n",
    "model = tf.saved_model.load(model_folder)\n",
    "\n",
    "@tf.function()\n",
    "def my_predict(my_prediction_inputs, **kwargs):\n",
    "\n",
    "    prediction = model.detect_poses(my_prediction_inputs, max_detections=1)\n",
    "    return {\"prediction\": prediction['poses3d']}\n",
    "\n",
    "my_signatures = my_predict.get_concrete_function(\n",
    "   my_prediction_inputs=tf.TensorSpec([None,None, 3], dtype=tf.dtypes.uint8, name=\"image\")\n",
    ")\n",
    "\n",
    "tf.saved_model.save(model, out_fold, signatures=my_signatures)"
   ]
  },
  {
   "cell_type": "code",
   "execution_count": 1,
   "id": "18a03964",
   "metadata": {},
   "outputs": [
    {
     "name": "stdout",
     "output_type": "stream",
     "text": [
      "INFO:tensorflow:Linked TensorRT version: (7, 2, 2)\n",
      "INFO:tensorflow:Loaded TensorRT version: (7, 2, 1)\n"
     ]
    },
    {
     "ename": "AttributeError",
     "evalue": "module 'tensorflow.python.compiler.tensorrt.utils' has no attribute 'versionTupleToString'",
     "output_type": "error",
     "traceback": [
      "\u001b[0;31m---------------------------------------------------------------------------\u001b[0m",
      "\u001b[0;31mAttributeError\u001b[0m                            Traceback (most recent call last)",
      "\u001b[0;32m/tmp/ipykernel_19231/2329918198.py\u001b[0m in \u001b[0;36m<module>\u001b[0;34m\u001b[0m\n\u001b[1;32m     10\u001b[0m     maximum_cached_engines=100)\n\u001b[1;32m     11\u001b[0m \u001b[0;34m\u001b[0m\u001b[0m\n\u001b[0;32m---> 12\u001b[0;31m converter = trt.TrtGraphConverterV2(\n\u001b[0m\u001b[1;32m     13\u001b[0m     input_saved_model_dir='rn18sig')\n\u001b[1;32m     14\u001b[0m     \u001b[0;31m#conversion_params=conversion_params)\u001b[0m\u001b[0;34m\u001b[0m\u001b[0;34m\u001b[0m\u001b[0;34m\u001b[0m\u001b[0m\n",
      "\u001b[0;32m~/env3.8/lib/python3.8/site-packages/tensorflow/python/compiler/tensorrt/trt_convert.py\u001b[0m in \u001b[0;36m__init__\u001b[0;34m(self, input_saved_model_dir, input_saved_model_tags, input_saved_model_signature_key, use_dynamic_shape, dynamic_shape_profile_strategy, conversion_params)\u001b[0m\n\u001b[1;32m   1007\u001b[0m       \u001b[0mconversion_params\u001b[0m \u001b[0;34m=\u001b[0m \u001b[0mTrtConversionParams\u001b[0m\u001b[0;34m(\u001b[0m\u001b[0;34m)\u001b[0m\u001b[0;34m\u001b[0m\u001b[0;34m\u001b[0m\u001b[0m\n\u001b[1;32m   1008\u001b[0m \u001b[0;34m\u001b[0m\u001b[0m\n\u001b[0;32m-> 1009\u001b[0;31m     \u001b[0m_check_trt_version_compatibility\u001b[0m\u001b[0;34m(\u001b[0m\u001b[0;34m)\u001b[0m\u001b[0;34m\u001b[0m\u001b[0;34m\u001b[0m\u001b[0m\n\u001b[0m\u001b[1;32m   1010\u001b[0m     \u001b[0m_check_conversion_params\u001b[0m\u001b[0;34m(\u001b[0m\u001b[0mconversion_params\u001b[0m\u001b[0;34m,\u001b[0m \u001b[0mis_v2\u001b[0m\u001b[0;34m=\u001b[0m\u001b[0;32mTrue\u001b[0m\u001b[0;34m)\u001b[0m\u001b[0;34m\u001b[0m\u001b[0;34m\u001b[0m\u001b[0m\n\u001b[1;32m   1011\u001b[0m \u001b[0;34m\u001b[0m\u001b[0m\n",
      "\u001b[0;32m~/env3.8/lib/python3.8/site-packages/tensorflow/python/compiler/tensorrt/trt_convert.py\u001b[0m in \u001b[0;36m_check_trt_version_compatibility\u001b[0;34m()\u001b[0m\n\u001b[1;32m    256\u001b[0m         \u001b[0;34m\"\\t-TensorRT does not support forward compatibility. The loaded \"\u001b[0m\u001b[0;34m\u001b[0m\u001b[0;34m\u001b[0m\u001b[0m\n\u001b[1;32m    257\u001b[0m         \u001b[0;34m\"version has to be equal or more recent than the linked version.\"\u001b[0m\u001b[0;34m,\u001b[0m\u001b[0;34m\u001b[0m\u001b[0;34m\u001b[0m\u001b[0m\n\u001b[0;32m--> 258\u001b[0;31m         \u001b[0mtrt_utils\u001b[0m\u001b[0;34m.\u001b[0m\u001b[0mversionTupleToString\u001b[0m\u001b[0;34m(\u001b[0m\u001b[0mloaded_version\u001b[0m\u001b[0;34m)\u001b[0m\u001b[0;34m,\u001b[0m\u001b[0;34m\u001b[0m\u001b[0;34m\u001b[0m\u001b[0m\n\u001b[0m\u001b[1;32m    259\u001b[0m         trt_utils.versionTupleToString(linked_version))\n\u001b[1;32m    260\u001b[0m     \u001b[0;32mraise\u001b[0m \u001b[0mRuntimeError\u001b[0m\u001b[0;34m(\u001b[0m\u001b[0;34m\"Incompatible TensorRT major version\"\u001b[0m\u001b[0;34m)\u001b[0m\u001b[0;34m\u001b[0m\u001b[0;34m\u001b[0m\u001b[0m\n",
      "\u001b[0;31mAttributeError\u001b[0m: module 'tensorflow.python.compiler.tensorrt.utils' has no attribute 'versionTupleToString'"
     ]
    }
   ],
   "source": [
    "import os\n",
    "import tensorflow as tf\n",
    "from tensorflow.python.compiler.tensorrt import trt_convert as trt\n",
    "\n",
    "conversion_params = trt.DEFAULT_TRT_CONVERSION_PARAMS\n",
    "conversion_params = conversion_params._replace(\n",
    "    max_workspace_size_bytes=(1<<32))\n",
    "conversion_params = conversion_params._replace(precision_mode=\"FP16\")\n",
    "conversion_params = conversion_params._replace(\n",
    "    maximum_cached_engines=100)\n",
    "\n",
    "converter = trt.TrtGraphConverterV2(\n",
    "    input_saved_model_dir='rn18sig')\n",
    "    #conversion_params=conversion_params)\n",
    "converter.convert()\n",
    "converter.save('tensorrt')"
   ]
  }
 ],
 "metadata": {
  "kernelspec": {
   "display_name": "Python 3",
   "language": "python",
   "name": "python3"
  },
  "language_info": {
   "codemirror_mode": {
    "name": "ipython",
    "version": 3
   },
   "file_extension": ".py",
   "mimetype": "text/x-python",
   "name": "python",
   "nbconvert_exporter": "python",
   "pygments_lexer": "ipython3",
   "version": "3.6.9"
  }
 },
 "nbformat": 4,
 "nbformat_minor": 5
}
