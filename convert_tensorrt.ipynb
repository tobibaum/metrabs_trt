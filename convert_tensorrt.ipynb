{
 "cells": [
  {
   "cell_type": "code",
   "execution_count": null,
   "id": "3c91d049",
   "metadata": {},
   "outputs": [],
   "source": [
    "import tensorflow as tf\n",
    "\n",
    "model_folder = 'models/metrabs_rn18_y4/'\n",
    "model = tf.saved_model.load(model_folder)\n",
    "\n",
    "\n",
    "@tf.function(input_signature=[\n",
    "        tf.TensorSpec(shape=(None, None, 3), dtype=tf.uint8),  # image\n",
    "    ])\n",
    "def slim_fun(inputs):\n",
    "    model.detect_poses(inputs)\n",
    "\n",
    "@tf.function()\n",
    "def my_predict(my_prediction_inputs, **kwargs):\n",
    "    # input_signature=[                                                  \n",
    "    #     tf.TensorSpec(shape=(None, None, 3), dtype=tf.uint8),  # image\n",
    "    #     tf.TensorSpec(shape=(3, 3), dtype=tf.float32),  # intrinsic_matrix\n",
    "    #     tf.TensorSpec(shape=(5), dtype=tf.float32),  # distortion_coeffs\n",
    "    #     tf.TensorSpec(shape=(4, 4), dtype=tf.float32),  # extrinsic_matrix\n",
    "    #     tf.TensorSpec(shape=(3,), dtype=tf.float32),  # world_up_vector\n",
    "    #     tf.TensorSpec(shape=(), dtype=tf.float32),  # default_fov_degrees\n",
    "    #     tf.TensorSpec(shape=(), dtype=tf.int32),  # internal_batch_size        \n",
    "    #     tf.TensorSpec(shape=(), dtype=tf.int32),  # antialias_factor\n",
    "    #     tf.TensorSpec(shape=(), dtype=tf.int32),  # num_aug\n",
    "    #     tf.TensorSpec(shape=(), dtype=tf.bool),  # average_aug\n",
    "    #     tf.TensorSpec(shape=(), dtype=tf.string),  # skeleton\n",
    "    #     tf.TensorSpec(shape=(), dtype=tf.float32),  # detector_threshold\n",
    "    #     tf.TensorSpec(shape=(), dtype=tf.float32),  # detector_nms_iou_threshold\n",
    "    #     tf.TensorSpec(shape=(), dtype=tf.int32),  # max_detections\n",
    "    #     tf.TensorSpec(shape=(), dtype=tf.bool),  # detector_flip_aug\n",
    "    #     tf.TensorSpec(shape=(), dtype=tf.bool) # suppress_implausible_poses\n",
    "    #                ] \n",
    "\n",
    "    # inputs = {\n",
    "    #     'image': my_prediction_inputs,\n",
    "    #     'intrinsic_matrix': tf.constant(((-1, -1, -1), (-1, -1, -1), (-1, -1, -1)), dtype=tf.float32),\n",
    "    #     'distortion_coeffs': tf.constant((0, 0, 0, 0, 0), dtype=tf.float32),\n",
    "    #     'extrinsic_matrix': tf.constant(((1, 0, 0, 0), (0, 1, 0, 0), (0, 0, 1, 0), (0, 0, 0, 1)), dtype=tf.float32),\n",
    "    #     'world_up_vector': tf.constant((0, -1, 0), dtype=tf.float32),\n",
    "    #     'default_fov_degrees': tf.constant(55, dtype=tf.float32), \n",
    "    #     'internal_batch_size': tf.constant(64, dtype=tf.int32),\n",
    "    #     'antialias_factor': tf.constant(1, dtype=tf.int32),\n",
    "    #     'num_aug': tf.constant(5, dtype=tf.int32),\n",
    "    #     'average_aug': tf.constant(True, dtype=tf.bool),\n",
    "    #     'skeleton': tf.constant('', dtype=tf.string),\n",
    "    #     'detector_threshold': tf.constant(0.3, dtype=tf.float32),\n",
    "    #     'detector_nms_iou_threshold': tf.constant(0.7, dtype=tf.float32),\n",
    "    #     'max_detections': tf.constant(-1, dtype=tf.int32),\n",
    "    #     'detector_flip_aug': tf.constant(False, dtype=tf.bool),\n",
    "    #     'suppress_implausible_poses': tf.constant(True, dtype=tf.bool)\n",
    "    # }\n",
    "    \n",
    "    prediction = model.detect_poses(my_prediction_inputs)\n",
    "    return {\"prediction\": prediction['poses3d']}\n",
    "\n",
    "my_signatures = my_predict.get_concrete_function(\n",
    "   my_prediction_inputs=tf.TensorSpec([None,None, 3], dtype=tf.dtypes.uint8, name=\"image\")\n",
    ")\n",
    "\n",
    "#signatures = {tf.saved_model.DEFAULT_SERVING_SIGNATURE_DEF_KEY : \n",
    "#                my_signatures}\n",
    "\n",
    "tf.saved_model.save(model, 'rn18sig', signatures=my_signatures)"
   ]
  },
  {
   "cell_type": "code",
   "execution_count": null,
   "id": "aaf24940",
   "metadata": {},
   "outputs": [
    {
     "name": "stdout",
     "output_type": "stream",
     "text": [
      "INFO:tensorflow:Linked TensorRT version: (8, 0, 3)\n",
      "INFO:tensorflow:Loaded TensorRT version: (8, 0, 3)\n"
     ]
    },
    {
     "name": "stderr",
     "output_type": "stream",
     "text": [
      "2021-12-10 10:37:28.508736: I tensorflow/stream_executor/cuda/cuda_gpu_executor.cc:1050] successful NUMA node read from SysFS had negative value (-1), but there must be at least one NUMA node, so returning NUMA node zero\n",
      "2021-12-10 10:37:28.542938: I tensorflow/stream_executor/cuda/cuda_gpu_executor.cc:1050] successful NUMA node read from SysFS had negative value (-1), but there must be at least one NUMA node, so returning NUMA node zero\n",
      "2021-12-10 10:37:28.543253: I tensorflow/stream_executor/cuda/cuda_gpu_executor.cc:1050] successful NUMA node read from SysFS had negative value (-1), but there must be at least one NUMA node, so returning NUMA node zero\n",
      "2021-12-10 10:37:28.544416: I tensorflow/stream_executor/cuda/cuda_gpu_executor.cc:1050] successful NUMA node read from SysFS had negative value (-1), but there must be at least one NUMA node, so returning NUMA node zero\n",
      "2021-12-10 10:37:28.544741: I tensorflow/stream_executor/cuda/cuda_gpu_executor.cc:1050] successful NUMA node read from SysFS had negative value (-1), but there must be at least one NUMA node, so returning NUMA node zero\n",
      "2021-12-10 10:37:28.545009: I tensorflow/stream_executor/cuda/cuda_gpu_executor.cc:1050] successful NUMA node read from SysFS had negative value (-1), but there must be at least one NUMA node, so returning NUMA node zero\n",
      "2021-12-10 10:37:28.886437: I tensorflow/stream_executor/cuda/cuda_gpu_executor.cc:1050] successful NUMA node read from SysFS had negative value (-1), but there must be at least one NUMA node, so returning NUMA node zero\n",
      "2021-12-10 10:37:28.886714: I tensorflow/stream_executor/cuda/cuda_gpu_executor.cc:1050] successful NUMA node read from SysFS had negative value (-1), but there must be at least one NUMA node, so returning NUMA node zero\n",
      "2021-12-10 10:37:28.886939: I tensorflow/stream_executor/cuda/cuda_gpu_executor.cc:1050] successful NUMA node read from SysFS had negative value (-1), but there must be at least one NUMA node, so returning NUMA node zero\n",
      "2021-12-10 10:37:28.887147: I tensorflow/core/common_runtime/gpu/gpu_device.cc:1510] Created device /job:localhost/replica:0/task:0/device:GPU:0 with 489 MB memory:  -> device: 0, name: NVIDIA GeForce RTX 2070 SUPER, pci bus id: 0000:07:00.0, compute capability: 7.5\n",
      "2021-12-10 10:37:51.252786: I tensorflow/stream_executor/cuda/cuda_gpu_executor.cc:1050] successful NUMA node read from SysFS had negative value (-1), but there must be at least one NUMA node, so returning NUMA node zero\n",
      "2021-12-10 10:37:51.253054: I tensorflow/core/grappler/devices.cc:66] Number of eligible GPUs (core count >= 8, compute capability >= 0.0): 1\n",
      "2021-12-10 10:37:51.253172: I tensorflow/core/grappler/clusters/single_machine.cc:357] Starting new session\n",
      "2021-12-10 10:37:51.253560: I tensorflow/stream_executor/cuda/cuda_gpu_executor.cc:1050] successful NUMA node read from SysFS had negative value (-1), but there must be at least one NUMA node, so returning NUMA node zero\n",
      "2021-12-10 10:37:51.253776: I tensorflow/stream_executor/cuda/cuda_gpu_executor.cc:1050] successful NUMA node read from SysFS had negative value (-1), but there must be at least one NUMA node, so returning NUMA node zero\n",
      "2021-12-10 10:37:51.253974: I tensorflow/stream_executor/cuda/cuda_gpu_executor.cc:1050] successful NUMA node read from SysFS had negative value (-1), but there must be at least one NUMA node, so returning NUMA node zero\n",
      "2021-12-10 10:37:51.254221: I tensorflow/stream_executor/cuda/cuda_gpu_executor.cc:1050] successful NUMA node read from SysFS had negative value (-1), but there must be at least one NUMA node, so returning NUMA node zero\n",
      "2021-12-10 10:37:51.254425: I tensorflow/stream_executor/cuda/cuda_gpu_executor.cc:1050] successful NUMA node read from SysFS had negative value (-1), but there must be at least one NUMA node, so returning NUMA node zero\n",
      "2021-12-10 10:37:51.254601: I tensorflow/core/common_runtime/gpu/gpu_device.cc:1510] Created device /job:localhost/replica:0/task:0/device:GPU:0 with 489 MB memory:  -> device: 0, name: NVIDIA GeForce RTX 2070 SUPER, pci bus id: 0000:07:00.0, compute capability: 7.5\n",
      "2021-12-10 10:37:52.581985: I tensorflow/core/grappler/optimizers/meta_optimizer.cc:1164] Optimization results for grappler item: graph_to_optimize\n",
      "  function_optimizer: Graph size after: 26723 nodes (26068), 51106 edges (50451), time = 835.393ms.\n",
      "  function_optimizer: function_optimizer did nothing. time = 15.077ms.\n",
      "\n"
     ]
    }
   ],
   "source": [
    "import os\n",
    "import tensorflow as tf\n",
    "from tensorflow.python.compiler.tensorrt import trt_convert as trt\n",
    "\n",
    "conversion_params = trt.DEFAULT_TRT_CONVERSION_PARAMS\n",
    "conversion_params = conversion_params._replace(\n",
    "    max_workspace_size_bytes=(1<<32))\n",
    "conversion_params = conversion_params._replace(precision_mode=\"FP16\")\n",
    "conversion_params = conversion_params._replace(\n",
    "    maximum_cached_engines=100)\n",
    "\n",
    "converter = trt.TrtGraphConverterV2(\n",
    "    input_saved_model_dir='rn18sig')\n",
    "    #conversion_params=conversion_params)\n",
    "converter.convert()\n",
    "converter.save('tensorrt')"
   ]
  },
  {
   "cell_type": "code",
   "execution_count": null,
   "id": "547aa517",
   "metadata": {},
   "outputs": [],
   "source": []
  }
 ],
 "metadata": {
  "kernelspec": {
   "display_name": "Python 3 (ipykernel)",
   "language": "python",
   "name": "python3"
  },
  "language_info": {
   "codemirror_mode": {
    "name": "ipython",
    "version": 3
   },
   "file_extension": ".py",
   "mimetype": "text/x-python",
   "name": "python",
   "nbconvert_exporter": "python",
   "pygments_lexer": "ipython3",
   "version": "3.8.10"
  }
 },
 "nbformat": 4,
 "nbformat_minor": 5
}
