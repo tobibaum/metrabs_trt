{
 "cells": [
  {
   "cell_type": "code",
   "execution_count": 1,
   "id": "442d345c-4ec1-4b66-997d-1a444b81d3b2",
   "metadata": {},
   "outputs": [
    {
     "name": "stdout",
     "output_type": "stream",
     "text": [
      "['metrabs_rn18_y4', 'metrabs_eff2l_y4_360', 'metrabs_eff2s_y4', 'metrabs_mob3s_y4t', 'server.log', 'metrabs_mob3s_y4', 'metrabs_eff2l_y4']\n"
     ]
    }
   ],
   "source": [
    "%matplotlib inline\n",
    "import matplotlib\n",
    "matplotlib.use('agg')\n",
    "from matplotlib import pyplot as plt\n",
    "from metrab_utils import *\n",
    "\n",
    "import pickle\n",
    "import os\n",
    "import tensorflow as tf\n",
    "\n",
    "model_fold = '/disk/apps/metrabs/models'\n",
    "\n",
    "models = os.listdir(model_fold)\n",
    "print(models)"
   ]
  },
  {
   "cell_type": "code",
   "execution_count": null,
   "id": "5f3c3aea-eb82-4f9a-90ea-aa5093c61379",
   "metadata": {},
   "outputs": [
    {
     "name": "stdout",
     "output_type": "stream",
     "text": [
      "metrabs_eff2l_y4\n"
     ]
    }
   ],
   "source": [
    "# load videos!\n",
    "import numpy as np\n",
    "from tqdm import tqdm\n",
    "import time\n",
    "import cv2\n",
    "\n",
    "vid_name_back = '/media/tobi/Elements/thesis_videos/gopro/25_exp.MP4'\n",
    "vid_name_front = '/media/tobi/Elements/thesis_videos/alpha/25_exp.MP4'\n",
    "vid_name_front_small = '/media/tobi/Elements/thesis_videos/alpha/small/all/25_exp.mp4'\n",
    "\n",
    "vid_name = vid_name_front\n",
    "\n",
    "WIDTH, HEIGHT = 1200, 600\n",
    "\n",
    "#mod = 'metrabs_eff2l_y4_360' #ALL poses?\n",
    "mod = 'metrabs_eff2l_y4'\n",
    "\n",
    "print(mod)\n",
    "vid_file = 'prezo/%s.mp4'%mod\n",
    "doc_file = 'prezo/%s.txt'%mod\n",
    "res_file = 'prezo/%s.pkl'%mod\n",
    "\n",
    "t = time.time()\n",
    "model = tf.saved_model.load(os.path.join(model_fold, mod))\n",
    "t = time.time() - t\n",
    "\n",
    "with open(doc_file, 'w') as fh:\n",
    "    fh.write('load: %.2fs\\n'%t)\n",
    "\n",
    "\n",
    "cap = cv2.VideoCapture(vid_name)\n",
    "vid_len = int(cap.get(cv2.CAP_PROP_FRAME_COUNT))\n",
    "\n",
    "out_vid = cv2.VideoWriter(vid_file, cv2.VideoWriter_fourcc('M','J','P','G'), 30, (WIDTH, HEIGHT))\n",
    "\n",
    "frames = []\n",
    "bs = 64\n",
    "results = []\n",
    "ts = []\n",
    "for i in tqdm(range(vid_len)):\n",
    "    ret, frame = cap.read()\n",
    "    if ret is None:\n",
    "        break\n",
    "    if i < 2*30*60:\n",
    "        continue\n",
    "\n",
    "    frame = cv2.cvtColor(frame, cv2.COLOR_BGR2RGB)\n",
    "    frames.append(frame)\n",
    "    \n",
    "    if len(frames) == bs:\n",
    "        t = time.time()\n",
    "        pred = model.detect_poses_batched(np.array(frames))\n",
    "        t = time.time() - t\n",
    "        with open(doc_file, 'a') as fh:\n",
    "            fh.write('%f\\n'%(t*1000))\n",
    "\n",
    "        results.append(pred)\n",
    "\n",
    "        # draw to video!\n",
    "        fig = plt.figure(figsize=(20, 10))\n",
    "\n",
    "        t = time.time()\n",
    "        for j, frame in enumerate(frames):\n",
    "            visualize(\n",
    "                frame, \n",
    "                pred['boxes'][j].numpy(),\n",
    "                pred['poses3d'][j].numpy(),\n",
    "                pred['poses2d'][j].numpy(),\n",
    "                model.per_skeleton_joint_edges['smpl+head_30'].numpy(), fig)\n",
    "            img = fig_to_np(fig)\n",
    "            fig.clf()\n",
    "            out_vid.write(img)\n",
    "        plt.close('all')\n",
    "        t = time.time()\n",
    "        if len(results) >= 5:\n",
    "            break\n",
    "\n",
    "        frames = []\n",
    "        \n",
    "out_vid.release()\n",
    "pickle.dump(results, open(res_file, 'wb'))"
   ]
  },
  {
   "cell_type": "code",
   "execution_count": null,
   "id": "ae9a61ea-0fba-4eb6-a2a5-38d6ca2815c4",
   "metadata": {},
   "outputs": [],
   "source": [
    "frame"
   ]
  },
  {
   "cell_type": "code",
   "execution_count": null,
   "id": "217661a5-4b61-47ef-934c-d836851ef6f3",
   "metadata": {},
   "outputs": [],
   "source": []
  }
 ],
 "metadata": {
  "kernelspec": {
   "display_name": "Python 3",
   "language": "python",
   "name": "python3"
  },
  "language_info": {
   "codemirror_mode": {
    "name": "ipython",
    "version": 3
   },
   "file_extension": ".py",
   "mimetype": "text/x-python",
   "name": "python",
   "nbconvert_exporter": "python",
   "pygments_lexer": "ipython3",
   "version": "3.6.9"
  }
 },
 "nbformat": 4,
 "nbformat_minor": 5
}
