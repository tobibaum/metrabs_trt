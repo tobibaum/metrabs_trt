{
 "cells": [
  {
   "cell_type": "markdown",
   "id": "7a3a1d53",
   "metadata": {},
   "source": [
    "# RUN IN DOCKER"
   ]
  },
  {
   "cell_type": "code",
   "execution_count": 2,
   "id": "c7ee4a6c",
   "metadata": {},
   "outputs": [
    {
     "name": "stdout",
     "output_type": "stream",
     "text": [
      "Collecting onnx\n",
      "  Downloading onnx-1.10.2-cp38-cp38-manylinux_2_12_x86_64.manylinux2010_x86_64.whl (12.7 MB)\n",
      "     |████████████████████████████████| 12.7 MB 4.9 MB/s            \n",
      "\u001b[?25hRequirement already satisfied: typing-extensions>=3.6.2.1 in /usr/local/lib/python3.8/dist-packages (from onnx) (3.7.4.3)\n",
      "Requirement already satisfied: protobuf in /usr/local/lib/python3.8/dist-packages (from onnx) (3.17.3)\n",
      "Requirement already satisfied: six in /usr/local/lib/python3.8/dist-packages (from onnx) (1.15.0)\n",
      "Requirement already satisfied: numpy>=1.16.6 in /usr/local/lib/python3.8/dist-packages (from onnx) (1.19.4)\n",
      "Installing collected packages: onnx\n",
      "Successfully installed onnx-1.10.2\n",
      "\u001b[33mWARNING: Running pip as the 'root' user can result in broken permissions and conflicting behaviour with the system package manager. It is recommended to use a virtual environment instead: https://pip.pypa.io/warnings/venv\u001b[0m\n"
     ]
    }
   ],
   "source": [
    "!pip install onnx"
   ]
  },
  {
   "cell_type": "code",
   "execution_count": 4,
   "id": "39e21ec2",
   "metadata": {},
   "outputs": [
    {
     "name": "stdout",
     "output_type": "stream",
     "text": [
      "[dim_value: 256\n",
      ", dim_value: 256\n",
      ", dim_value: 3\n",
      "]\n"
     ]
    }
   ],
   "source": [
    "import engine as eng\n",
    "import argparse\n",
    "from onnx import ModelProto\n",
    "import tensorrt as trt\n",
    "\n",
    "#base_dir = \"mods/effnet-l\"\n",
    "base_dir = \"mods/resnet152/\"\n",
    "onnx_path = base_dir+\"/bbone.onnx\"\n",
    "engine_name =  base_dir+\"/bbone.plan\"\n",
    "\n",
    "model = ModelProto()\n",
    "with open(onnx_path, \"rb\") as f:\n",
    "    model.ParseFromString(f.read())\n",
    "\n",
    "print(model.graph.input[0].type.tensor_type.shape.dim)\n",
    "#d0 = model.graph.input[0].type.tensor_type.shape.dim[1].dim_value\n",
    "#d1 = model.graph.input[0].type.tensor_type.shape.dim[2].dim_value\n",
    "#d2 = model.graph.input[0].type.tensor_type.shape.dim[3].dim_value\n",
    "shape = [256, 256, 3]\n",
    "\n",
    "engine = eng.build_engine(onnx_path, shape=shape)\n",
    "eng.save_engine(engine, engine_name) "
   ]
  },
  {
   "cell_type": "code",
   "execution_count": null,
   "id": "d30fabb3",
   "metadata": {},
   "outputs": [],
   "source": []
  }
 ],
 "metadata": {
  "kernelspec": {
   "display_name": "Python 3 (ipykernel)",
   "language": "python",
   "name": "python3"
  },
  "language_info": {
   "codemirror_mode": {
    "name": "ipython",
    "version": 3
   },
   "file_extension": ".py",
   "mimetype": "text/x-python",
   "name": "python",
   "nbconvert_exporter": "python",
   "pygments_lexer": "ipython3",
   "version": "3.8.0"
  }
 },
 "nbformat": 4,
 "nbformat_minor": 5
}
