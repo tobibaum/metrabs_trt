{
 "cells": [
  {
   "cell_type": "code",
   "execution_count": 1,
   "id": "06921b35",
   "metadata": {},
   "outputs": [
    {
     "name": "stdout",
     "output_type": "stream",
     "text": [
      "['metrabs_rn18_y4', 'metrabs_eff2l_y4_360', 'metrabs_eff2s_y4', 'metrabs_mob3s_y4t', 'server.log', 'metrabs_mob3s_y4', 'metrabs_eff2l_y4']\n"
     ]
    }
   ],
   "source": [
    "# %matplotlib inline\n",
    "import matplotlib\n",
    "matplotlib.use('agg')\n",
    "from matplotlib import pyplot as plt\n",
    "\n",
    "import pickle\n",
    "import os\n",
    "import tensorflow as tf\n",
    "import PIL\n",
    "import IPython\n",
    "import cv2\n",
    "import time\n",
    "\n",
    "from metrab_utils import *\n",
    "\n",
    "def showarray(a, fmt='jpeg'):\n",
    "    f = io.BytesIO()\n",
    "    PIL.Image.fromarray(a).save(f, fmt)\n",
    "    IPython.display.display(IPython.display.Image(data=f.getvalue()))\n",
    "\n",
    "model_fold = '/disk/apps/metrabs/models'\n",
    "\n",
    "models = os.listdir(model_fold)\n",
    "print(models)"
   ]
  },
  {
   "cell_type": "code",
   "execution_count": 2,
   "id": "6555d718",
   "metadata": {},
   "outputs": [
    {
     "name": "stderr",
     "output_type": "stream",
     "text": [
      "2021-12-09 10:09:21.940663: I tensorflow/stream_executor/cuda/cuda_gpu_executor.cc:939] successful NUMA node read from SysFS had negative value (-1), but there must be at least one NUMA node, so returning NUMA node zero\n",
      "2021-12-09 10:09:21.972474: I tensorflow/stream_executor/cuda/cuda_gpu_executor.cc:939] successful NUMA node read from SysFS had negative value (-1), but there must be at least one NUMA node, so returning NUMA node zero\n",
      "2021-12-09 10:09:21.973114: I tensorflow/stream_executor/cuda/cuda_gpu_executor.cc:939] successful NUMA node read from SysFS had negative value (-1), but there must be at least one NUMA node, so returning NUMA node zero\n",
      "2021-12-09 10:09:21.974404: I tensorflow/core/platform/cpu_feature_guard.cc:151] This TensorFlow binary is optimized with oneAPI Deep Neural Network Library (oneDNN) to use the following CPU instructions in performance-critical operations:  AVX2 FMA\n",
      "To enable them in other operations, rebuild TensorFlow with the appropriate compiler flags.\n",
      "2021-12-09 10:09:21.975293: I tensorflow/stream_executor/cuda/cuda_gpu_executor.cc:939] successful NUMA node read from SysFS had negative value (-1), but there must be at least one NUMA node, so returning NUMA node zero\n",
      "2021-12-09 10:09:21.975884: I tensorflow/stream_executor/cuda/cuda_gpu_executor.cc:939] successful NUMA node read from SysFS had negative value (-1), but there must be at least one NUMA node, so returning NUMA node zero\n",
      "2021-12-09 10:09:21.976447: I tensorflow/stream_executor/cuda/cuda_gpu_executor.cc:939] successful NUMA node read from SysFS had negative value (-1), but there must be at least one NUMA node, so returning NUMA node zero\n",
      "2021-12-09 10:09:22.666562: I tensorflow/stream_executor/cuda/cuda_gpu_executor.cc:939] successful NUMA node read from SysFS had negative value (-1), but there must be at least one NUMA node, so returning NUMA node zero\n",
      "2021-12-09 10:09:22.667135: I tensorflow/stream_executor/cuda/cuda_gpu_executor.cc:939] successful NUMA node read from SysFS had negative value (-1), but there must be at least one NUMA node, so returning NUMA node zero\n",
      "2021-12-09 10:09:22.667673: I tensorflow/stream_executor/cuda/cuda_gpu_executor.cc:939] successful NUMA node read from SysFS had negative value (-1), but there must be at least one NUMA node, so returning NUMA node zero\n",
      "2021-12-09 10:09:22.668179: I tensorflow/core/common_runtime/gpu/gpu_device.cc:1525] Created device /job:localhost/replica:0/task:0/device:GPU:0 with 5661 MB memory:  -> device: 0, name: NVIDIA GeForce RTX 2070 SUPER, pci bus id: 0000:07:00.0, compute capability: 7.5\n"
     ]
    },
    {
     "name": "stdout",
     "output_type": "stream",
     "text": [
      "load took 21.29s\n"
     ]
    }
   ],
   "source": [
    "mod = 'metrabs_mob3s_y4t' #10fps on rtx2070s\n",
    "#mod = 'metrabs_rn18_y4' #9fps on rtx2070s\n",
    "\n",
    "t = time.time()\n",
    "model = tf.saved_model.load(os.path.join(model_fold, mod))\n",
    "t = time.time() - t\n",
    "print('load took %.2fs'%t)"
   ]
  },
  {
   "cell_type": "code",
   "execution_count": 3,
   "id": "a12c5cbb",
   "metadata": {},
   "outputs": [
    {
     "name": "stdout",
     "output_type": "stream",
     "text": [
      "Stream stopped\n"
     ]
    }
   ],
   "source": [
    "cam = cv2.VideoCapture(0)\n",
    "\n",
    "try:\n",
    "    while(True):\n",
    "        t1 = time.time()\n",
    "        \n",
    "        # Capture frame-by-frame\n",
    "        ret, frame = cam.read()\n",
    "\n",
    "        # Convert the image from OpenCV BGR format to matplotlib RGB format\n",
    "        # to display the image\n",
    "        frame = cv2.cvtColor(frame, cv2.COLOR_BGR2RGB)\n",
    "        \n",
    "        pred = model.detect_poses(frame)\n",
    "        \n",
    "        t2 = time.time()\n",
    "        \n",
    "        showarray(frame)\n",
    "\n",
    "        print(\"%f FPS, %.2fms\" % (1/(t2-t1), (t2-t1)*1000))\n",
    "        # Display the frame until new frame is available\n",
    "        IPython.display.clear_output(wait=True)\n",
    "except KeyboardInterrupt:\n",
    "    print(\"Stream stopped\")\n",
    "cam.release()"
   ]
  },
  {
   "cell_type": "code",
   "execution_count": null,
   "id": "0779863d-5629-4e9a-a5b0-b8b25ea0627c",
   "metadata": {},
   "outputs": [],
   "source": []
  }
 ],
 "metadata": {
  "kernelspec": {
   "display_name": "Python 3 (ipykernel)",
   "language": "python",
   "name": "python3"
  },
  "language_info": {
   "codemirror_mode": {
    "name": "ipython",
    "version": 3
   },
   "file_extension": ".py",
   "mimetype": "text/x-python",
   "name": "python",
   "nbconvert_exporter": "python",
   "pygments_lexer": "ipython3",
   "version": "3.8.0"
  }
 },
 "nbformat": 4,
 "nbformat_minor": 5
}
