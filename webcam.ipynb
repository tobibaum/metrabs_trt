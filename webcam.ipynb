{
 "cells": [
  {
   "cell_type": "code",
   "execution_count": 7,
   "id": "c8798e1a",
   "metadata": {},
   "outputs": [
    {
     "name": "stdout",
     "output_type": "stream",
     "text": [
      "['metrabs_rn18_y4', 'metrabs_eff2l_y4_360', 'metrabs_eff2s_y4', 'metrabs_mob3s_y4t', 'server.log', 'metrabs_mob3s_y4', 'metrabs_eff2l_y4']\n"
     ]
    }
   ],
   "source": [
    "# %matplotlib inline\n",
    "import matplotlib\n",
    "matplotlib.use('agg')\n",
    "from matplotlib import pyplot as plt\n",
    "\n",
    "import pickle\n",
    "import os\n",
    "import tensorflow as tf\n",
    "import PIL\n",
    "import IPython\n",
    "import cv2\n",
    "import time\n",
    "\n",
    "from metrab_utils import *\n",
    "\n",
    "def showarray(a, fmt='jpeg'):\n",
    "    f = io.BytesIO()\n",
    "    PIL.Image.fromarray(a).save(f, fmt)\n",
    "    IPython.display.display(IPython.display.Image(data=f.getvalue()))\n",
    "\n",
    "model_fold = '/disk/apps/metrabs/models'\n",
    "\n",
    "models = os.listdir(model_fold)\n",
    "print(models)"
   ]
  },
  {
   "cell_type": "code",
   "execution_count": 8,
   "id": "a2229dc1",
   "metadata": {},
   "outputs": [
    {
     "name": "stderr",
     "output_type": "stream",
     "text": [
      "2021-12-13 11:54:11.193370: I tensorflow/stream_executor/cuda/cuda_gpu_executor.cc:939] successful NUMA node read from SysFS had negative value (-1), but there must be at least one NUMA node, so returning NUMA node zero\n",
      "2021-12-13 11:54:11.205770: I tensorflow/stream_executor/cuda/cuda_gpu_executor.cc:939] successful NUMA node read from SysFS had negative value (-1), but there must be at least one NUMA node, so returning NUMA node zero\n",
      "2021-12-13 11:54:11.206852: I tensorflow/stream_executor/cuda/cuda_gpu_executor.cc:939] successful NUMA node read from SysFS had negative value (-1), but there must be at least one NUMA node, so returning NUMA node zero\n",
      "2021-12-13 11:54:11.208672: I tensorflow/core/platform/cpu_feature_guard.cc:151] This TensorFlow binary is optimized with oneAPI Deep Neural Network Library (oneDNN) to use the following CPU instructions in performance-critical operations:  AVX2 FMA\n",
      "To enable them in other operations, rebuild TensorFlow with the appropriate compiler flags.\n",
      "2021-12-13 11:54:11.209410: I tensorflow/stream_executor/cuda/cuda_gpu_executor.cc:939] successful NUMA node read from SysFS had negative value (-1), but there must be at least one NUMA node, so returning NUMA node zero\n",
      "2021-12-13 11:54:11.209851: I tensorflow/stream_executor/cuda/cuda_gpu_executor.cc:939] successful NUMA node read from SysFS had negative value (-1), but there must be at least one NUMA node, so returning NUMA node zero\n",
      "2021-12-13 11:54:11.210270: I tensorflow/stream_executor/cuda/cuda_gpu_executor.cc:939] successful NUMA node read from SysFS had negative value (-1), but there must be at least one NUMA node, so returning NUMA node zero\n",
      "2021-12-13 11:54:11.607494: I tensorflow/stream_executor/cuda/cuda_gpu_executor.cc:939] successful NUMA node read from SysFS had negative value (-1), but there must be at least one NUMA node, so returning NUMA node zero\n",
      "2021-12-13 11:54:11.607946: I tensorflow/stream_executor/cuda/cuda_gpu_executor.cc:939] successful NUMA node read from SysFS had negative value (-1), but there must be at least one NUMA node, so returning NUMA node zero\n",
      "2021-12-13 11:54:11.608348: I tensorflow/stream_executor/cuda/cuda_gpu_executor.cc:939] successful NUMA node read from SysFS had negative value (-1), but there must be at least one NUMA node, so returning NUMA node zero\n",
      "2021-12-13 11:54:11.608737: I tensorflow/core/common_runtime/gpu/gpu_device.cc:1525] Created device /job:localhost/replica:0/task:0/device:GPU:0 with 5930 MB memory:  -> device: 0, name: NVIDIA GeForce RTX 2070 SUPER, pci bus id: 0000:07:00.0, compute capability: 7.5\n"
     ]
    },
    {
     "name": "stdout",
     "output_type": "stream",
     "text": [
      "load took 23.04s\n"
     ]
    }
   ],
   "source": [
    "#mod = 'metrabs_mob3s_y4t' #10fps on rtx2070s\n",
    "mod = 'metrabs_rn18_y4' #9fps on rtx2070s\n",
    "\n",
    "t = time.time()\n",
    "model = tf.saved_model.load(os.path.join(model_fold, mod))\n",
    "t = time.time() - t\n",
    "print('load took %.2fs'%t)"
   ]
  },
  {
   "cell_type": "code",
   "execution_count": 2,
   "id": "80ded9a1",
   "metadata": {},
   "outputs": [
    {
     "ename": "NameError",
     "evalue": "name 'model' is not defined",
     "output_type": "error",
     "traceback": [
      "\u001b[0;31m---------------------------------------------------------------------------\u001b[0m",
      "\u001b[0;31mNameError\u001b[0m                                 Traceback (most recent call last)",
      "\u001b[0;32m/tmp/ipykernel_18214/1416197786.py\u001b[0m in \u001b[0;36m<module>\u001b[0;34m\u001b[0m\n\u001b[1;32m     12\u001b[0m         \u001b[0mframe\u001b[0m \u001b[0;34m=\u001b[0m \u001b[0mcv2\u001b[0m\u001b[0;34m.\u001b[0m\u001b[0mcvtColor\u001b[0m\u001b[0;34m(\u001b[0m\u001b[0mframe\u001b[0m\u001b[0;34m,\u001b[0m \u001b[0mcv2\u001b[0m\u001b[0;34m.\u001b[0m\u001b[0mCOLOR_BGR2RGB\u001b[0m\u001b[0;34m)\u001b[0m\u001b[0;34m\u001b[0m\u001b[0;34m\u001b[0m\u001b[0m\n\u001b[1;32m     13\u001b[0m \u001b[0;34m\u001b[0m\u001b[0m\n\u001b[0;32m---> 14\u001b[0;31m         \u001b[0mpred\u001b[0m \u001b[0;34m=\u001b[0m \u001b[0mmodel\u001b[0m\u001b[0;34m.\u001b[0m\u001b[0mdetect_poses\u001b[0m\u001b[0;34m(\u001b[0m\u001b[0mframe\u001b[0m\u001b[0;34m)\u001b[0m\u001b[0;34m\u001b[0m\u001b[0;34m\u001b[0m\u001b[0m\n\u001b[0m\u001b[1;32m     15\u001b[0m \u001b[0;34m\u001b[0m\u001b[0m\n\u001b[1;32m     16\u001b[0m         \u001b[0mt2\u001b[0m \u001b[0;34m=\u001b[0m \u001b[0mtime\u001b[0m\u001b[0;34m.\u001b[0m\u001b[0mtime\u001b[0m\u001b[0;34m(\u001b[0m\u001b[0;34m)\u001b[0m\u001b[0;34m\u001b[0m\u001b[0;34m\u001b[0m\u001b[0m\n",
      "\u001b[0;31mNameError\u001b[0m: name 'model' is not defined"
     ]
    }
   ],
   "source": [
    "cam = cv2.VideoCapture(0)\n",
    "\n",
    "try:\n",
    "    while(True):\n",
    "        t1 = time.time()\n",
    "        \n",
    "        # Capture frame-by-frame\n",
    "        ret, frame = cam.read()\n",
    "\n",
    "        # Convert the image from OpenCV BGR format to matplotlib RGB format\n",
    "        # to display the image\n",
    "        frame = cv2.cvtColor(frame, cv2.COLOR_BGR2RGB)\n",
    "        \n",
    "        pred = model.detect_poses(frame)\n",
    "        \n",
    "        t2 = time.time()\n",
    "        \n",
    "        showarray(frame)\n",
    "\n",
    "        print(\"%f FPS, %.2fms\" % (1/(t2-t1), (t2-t1)*1000))\n",
    "        # Display the frame until new frame is available\n",
    "        IPython.display.clear_output(wait=True)\n",
    "except KeyboardInterrupt:\n",
    "    print(\"Stream stopped\")\n",
    "cam.release()"
   ]
  },
  {
   "cell_type": "code",
   "execution_count": 9,
   "id": "fd4ee800-09d2-4b70-9132-13b2a3e766aa",
   "metadata": {},
   "outputs": [
    {
     "name": "stderr",
     "output_type": "stream",
     "text": [
      "2021-12-13 11:54:44.744536: I tensorflow/stream_executor/cuda/cuda_dnn.cc:366] Loaded cuDNN version 8202\n",
      "2021-12-13 11:54:45.720375: I tensorflow/core/util/cuda_solvers.cc:179] Creating GpuSolver handles for stream 0x16ff8b80\n"
     ]
    },
    {
     "data": {
      "text/plain": [
       "<tf.Tensor: shape=(1, 122, 3), dtype=float32, numpy=\n",
       "array([[[  89.61586 ,  -14.519338, 2018.1293  ],\n",
       "        [ -31.130798,  -20.164759, 2028.8268  ],\n",
       "        [  41.907276, -210.75435 , 2058.418   ],\n",
       "        [ 160.08533 ,  356.83694 , 2017.6292  ],\n",
       "        [-151.5985  ,  338.24725 , 2030.4164  ],\n",
       "        [  47.56598 , -336.89554 , 2063.8628  ],\n",
       "        [ 185.7382  ,  747.76544 , 2101.3433  ],\n",
       "        [-193.17998 ,  741.67267 , 2081.017   ],\n",
       "        [  47.175434, -386.92535 , 2043.741   ],\n",
       "        [ 224.9565  ,  815.6357  , 1996.0869  ],\n",
       "        [-260.67203 ,  790.3314  , 1979.6912  ],\n",
       "        [  57.950592, -604.31995 , 2074.6948  ],\n",
       "        [ 124.30111 , -504.09976 , 2067.601   ],\n",
       "        [ -16.165485, -513.8124  , 2078.2776  ],\n",
       "        [  55.55847 , -658.5768  , 2027.5123  ],\n",
       "        [ 209.05122 , -543.34924 , 2064.794   ],\n",
       "        [-101.15608 , -560.0211  , 2089.1216  ],\n",
       "        [ 421.7885  , -528.7523  , 2048.2722  ],\n",
       "        [-314.6938  , -551.3535  , 2081.0625  ],\n",
       "        [ 627.7134  , -566.12335 , 2003.4133  ],\n",
       "        [-523.3634  , -600.6     , 2016.8723  ],\n",
       "        [ 690.2351  , -582.4974  , 1990.0471  ],\n",
       "        [-551.9546  , -597.51166 , 1998.9636  ],\n",
       "        [  33.946724, -105.87549 , 2031.4207  ],\n",
       "        [  54.803223, -666.3231  , 2002.8655  ],\n",
       "        [  57.063335, -686.7528  , 2053.4087  ],\n",
       "        [  51.381092, -634.42114 , 1984.9053  ],\n",
       "        [  59.04203 , -736.3203  , 2052.836   ],\n",
       "        [  61.563744, -845.67834 , 2040.9773  ],\n",
       "        [  54.986786, -791.75867 , 1963.2975  ],\n",
       "        [ 197.1992  ,  722.62463 , 2093.0488  ],\n",
       "        [ 204.85881 ,  736.97894 , 2123.164   ],\n",
       "        [ 194.05888 ,  740.5388  , 2116.9983  ],\n",
       "        [ 197.66267 ,  733.9911  , 2097.7126  ],\n",
       "        [  91.64526 , -556.8532  , 2048.6086  ],\n",
       "        [ 131.42947 , -706.5672  , 2050.3237  ],\n",
       "        [ 127.93998 , -698.42676 , 2019.4238  ],\n",
       "        [ 431.83374 , -546.64606 , 2047.3727  ],\n",
       "        [ 413.08917 , -528.4605  , 2047.6511  ],\n",
       "        [ 475.77866 , -559.7608  , 2037.8894  ],\n",
       "        [ 432.127   , -547.48303 , 2046.3884  ],\n",
       "        [  82.00612 , -733.12506 , 1971.717   ],\n",
       "        [  82.972824, -732.48486 , 1962.6064  ],\n",
       "        [ 706.5226  , -580.7208  , 1986.5701  ],\n",
       "        [ 215.82573 ,  796.6717  , 2011.8219  ],\n",
       "        [ 218.51523 ,  792.76874 , 2010.2644  ],\n",
       "        [ 698.97766 , -597.36536 , 1985.7465  ],\n",
       "        [ 696.40753 , -595.1841  , 1983.7869  ],\n",
       "        [ 122.59711 ,  -57.63151 , 2012.974   ],\n",
       "        [ 161.0935  , -123.12134 , 2016.0332  ],\n",
       "        [ 143.16177 , -122.90411 , 2031.8207  ],\n",
       "        [ 116.55859 ,  -45.227806, 2035.2213  ],\n",
       "        [ 151.07166 ,  330.19403 , 2015.574   ],\n",
       "        [ 166.1775  ,  314.87622 , 2019.26    ],\n",
       "        [ 161.63132 ,  369.61465 , 2006.7024  ],\n",
       "        [ 152.36063 ,  352.28552 , 2022.7576  ],\n",
       "        [ 188.42049 , -538.327   , 2069.628   ],\n",
       "        [ 179.0221  , -559.6229  , 2069.341   ],\n",
       "        [ 177.89081 , -550.9719  , 2065.799   ],\n",
       "        [ 216.19458 , -546.9215  , 2068.5024  ],\n",
       "        [ 560.57733 , -567.4074  , 1998.5764  ],\n",
       "        [ 223.00345 ,  793.2756  , 1957.5862  ],\n",
       "        [ 220.65683 ,  794.9702  , 1981.1334  ],\n",
       "        [ 216.43803 ,  798.0492  , 1958.0172  ],\n",
       "        [ 626.20056 , -584.2997  , 2003.7809  ],\n",
       "        [ 608.64246 , -556.37616 , 2006.5388  ],\n",
       "        [ 638.5117  , -586.0497  , 1999.2852  ],\n",
       "        [ 626.6156  , -581.8132  , 2001.3518  ],\n",
       "        [  54.95996 , -546.2503  , 2079.7422  ],\n",
       "        [  58.24227 , -603.0287  , 2073.9587  ],\n",
       "        [  56.74605 , -599.79956 , 2069.324   ],\n",
       "        [  50.54137 , -541.6466  , 2024.4203  ],\n",
       "        [  52.103493, -707.83624 , 1952.1467  ],\n",
       "        [  50.874775, -700.7432  , 1945.5215  ],\n",
       "        [  31.145214,  -62.40937 , 2022.2747  ],\n",
       "        [  35.275066, -128.10373 , 2027.0637  ],\n",
       "        [  36.601055, -127.69322 , 2044.4043  ],\n",
       "        [  37.102203, -113.12205 , 2048.993   ],\n",
       "        [-203.74304 ,  714.6882  , 2075.4463  ],\n",
       "        [-205.52945 ,  731.9821  , 2104.9124  ],\n",
       "        [-197.33714 ,  736.012   , 2096.3494  ],\n",
       "        [-204.28232 ,  726.81506 , 2080.9824  ],\n",
       "        [  16.874393, -562.5899  , 2053.636   ],\n",
       "        [ -13.910849, -712.63855 , 2062.325   ],\n",
       "        [ -12.994238, -701.5187  , 2022.626   ],\n",
       "        [-322.40924 , -567.91174 , 2077.1743  ],\n",
       "        [-305.74988 , -552.1541  , 2080.8696  ],\n",
       "        [-363.32507 , -577.80493 , 2061.5657  ],\n",
       "        [-322.543   , -568.34705 , 2075.607   ],\n",
       "        [  26.227636, -735.4709  , 1976.293   ],\n",
       "        [  24.535666, -733.8867  , 1964.1594  ],\n",
       "        [-561.61035 , -592.67395 , 1996.941   ],\n",
       "        [-246.75534 ,  774.80426 , 1994.3115  ],\n",
       "        [-249.58493 ,  771.3294  , 1994.554   ],\n",
       "        [-551.63837 , -606.5629  , 1992.5769  ],\n",
       "        [-551.52014 , -605.4299  , 1993.1897  ],\n",
       "        [ -60.36128 ,  -66.35942 , 2031.1599  ],\n",
       "        [ -90.32925 , -134.20901 , 2037.625   ],\n",
       "        [ -71.39996 , -133.33723 , 2052.3906  ],\n",
       "        [ -48.81652 ,  -50.96022 , 2053.2878  ],\n",
       "        [-139.1006  ,  314.52362 , 2018.0488  ],\n",
       "        [-152.66386 ,  296.4448  , 2033.2152  ],\n",
       "        [-156.066   ,  352.47687 , 2010.2611  ],\n",
       "        [-139.64742 ,  337.9311  , 2025.1926  ],\n",
       "        [ -78.640305, -557.6196  , 2091.8345  ],\n",
       "        [ -64.12641 , -577.8755  , 2086.6711  ],\n",
       "        [ -66.27913 , -568.64    , 2084.9448  ],\n",
       "        [-107.302475, -564.3215  , 2093.6997  ],\n",
       "        [-428.70856 , -579.996   , 2007.1018  ],\n",
       "        [-265.29294 ,  763.30646 , 1943.0496  ],\n",
       "        [-258.20685 ,  768.7566  , 1965.5107  ],\n",
       "        [-258.49365 ,  776.31836 , 1955.2836  ],\n",
       "        [-491.3056  , -597.08093 , 2015.6097  ],\n",
       "        [-502.74146 , -588.0282  , 2018.6761  ],\n",
       "        [-500.41675 , -597.04034 , 2009.1482  ],\n",
       "        [-490.83514 , -593.3003  , 2012.8789  ],\n",
       "        [  48.573883, -348.6101  , 2065.7124  ],\n",
       "        [  58.464558, -525.5451  , 2100.189   ],\n",
       "        [  48.536568, -349.5316  , 2069.0022  ],\n",
       "        [  48.493946, -347.38858 , 2065.4175  ],\n",
       "        [  48.893673, -368.28607 , 2065.4092  ],\n",
       "        [  53.018078, -423.48187 , 2081.6782  ]]], dtype=float32)>"
      ]
     },
     "execution_count": 9,
     "metadata": {},
     "output_type": "execute_result"
    }
   ],
   "source": [
    "img_local = cv2.imread('cpp/image.png')\n",
    "pred = model.detect_poses(img_local)\n",
    "pred['poses3d']"
   ]
  }
 ],
 "metadata": {
  "kernelspec": {
   "display_name": "Python 3 (ipykernel)",
   "language": "python",
   "name": "python3"
  },
  "language_info": {
   "codemirror_mode": {
    "name": "ipython",
    "version": 3
   },
   "file_extension": ".py",
   "mimetype": "text/x-python",
   "name": "python",
   "nbconvert_exporter": "python",
   "pygments_lexer": "ipython3",
   "version": "3.8.0"
  }
 },
 "nbformat": 4,
 "nbformat_minor": 5
}
